{
  "nbformat": 4,
  "nbformat_minor": 0,
  "metadata": {
    "colab": {
      "provenance": [],
      "authorship_tag": "ABX9TyPjVSgb4GPpabeoapOSnzDt",
      "include_colab_link": true
    },
    "kernelspec": {
      "name": "python3",
      "display_name": "Python 3"
    },
    "language_info": {
      "name": "python"
    }
  },
  "cells": [
    {
      "cell_type": "markdown",
      "metadata": {
        "id": "view-in-github",
        "colab_type": "text"
      },
      "source": [
        "<a href=\"https://colab.research.google.com/github/bible-black/my-first-repo/blob/main/Untitled1.ipynb\" target=\"_parent\"><img src=\"https://colab.research.google.com/assets/colab-badge.svg\" alt=\"Open In Colab\"/></a>"
      ]
    },
    {
      "cell_type": "code",
      "execution_count": 1,
      "metadata": {
        "colab": {
          "base_uri": "https://localhost:8080/"
        },
        "id": "Vt_J55OjPTYd",
        "outputId": "e7c689ee-8bfb-4822-ddad-7fb09f57c805"
      },
      "outputs": [
        {
          "output_type": "execute_result",
          "data": {
            "text/plain": [
              "30"
            ]
          },
          "metadata": {},
          "execution_count": 1
        }
      ],
      "source": [
        "# 1から10までの偶数の和を求めるプログラム\n",
        "x = 0\n",
        "n = 1\n",
        "while (n <= 10):\n",
        "    if (n % 2 == 0):\n",
        "        x = x + n\n",
        "    n = n + 1\n",
        "x"
      ]
    },
    {
      "cell_type": "code",
      "source": [
        "height = float(input(\"身長を入力してください\")) / 100\n",
        "\n",
        "weight = float(input(\"体重を入力してください\"))\n",
        "\n",
        "bmi = float(weight / (height * height))\n",
        "print(\"あなたのBMIは{:.1f}です\".format(bmi))\n"
      ],
      "metadata": {
        "colab": {
          "base_uri": "https://localhost:8080/"
        },
        "id": "7V3ABRtfPcpW",
        "outputId": "e1fe718c-a81e-4369-ee03-505139ae1e74"
      },
      "execution_count": 32,
      "outputs": [
        {
          "output_type": "stream",
          "name": "stdout",
          "text": [
            "身長を入力してください174\n",
            "体重を入力してください92\n",
            "あなたのBMIは30.4です\n"
          ]
        }
      ]
    },
    {
      "cell_type": "code",
      "source": [
        "# 1から10までの偶数の和を求めるプログラム\n",
        "x = 0\n",
        "n = 1\n",
        "while(n <= 10):\n",
        "    if(n % 2 == 0):\n",
        "       x = x + n\n",
        "    n = n + 1\n",
        "\n",
        "x\n",
        "\n",
        "\n"
      ],
      "metadata": {
        "colab": {
          "base_uri": "https://localhost:8080/"
        },
        "id": "q6NrdRvDWSTg",
        "outputId": "7347ba9e-e490-48d3-a834-4b8980b99f49"
      },
      "execution_count": 50,
      "outputs": [
        {
          "output_type": "execute_result",
          "data": {
            "text/plain": [
              "30"
            ]
          },
          "metadata": {},
          "execution_count": 50
        }
      ]
    },
    {
      "cell_type": "code",
      "source": [
        "def bmi(h , w):\n",
        "    return w / (h * h)\n",
        "\n",
        "w = 55\n",
        "h = 1.74\n",
        "\n",
        "result = bmi(h , w)\n",
        "print(\"あなたのBMI値は{:.2f}です\".format(result))\n",
        "\n",
        "if(result > 25):\n",
        "    print(\"太りすぎ\")\n",
        "elif(result <= 25 and result > 22):\n",
        "    print(\"標準です\")\n",
        "\n",
        "else:\n",
        "    print(\"痩せ過ぎです\")\n"
      ],
      "metadata": {
        "colab": {
          "base_uri": "https://localhost:8080/"
        },
        "id": "MDjqgok1WepB",
        "outputId": "91d40e88-7c48-448b-ccd4-9f70c86d64fb"
      },
      "execution_count": 72,
      "outputs": [
        {
          "output_type": "stream",
          "name": "stdout",
          "text": [
            "あなたのBMI値は18.17です\n",
            "痩せ過ぎです\n"
          ]
        }
      ]
    },
    {
      "cell_type": "code",
      "source": [],
      "metadata": {
        "id": "d1EFXwViqSNI"
      },
      "execution_count": null,
      "outputs": []
    }
  ]
}